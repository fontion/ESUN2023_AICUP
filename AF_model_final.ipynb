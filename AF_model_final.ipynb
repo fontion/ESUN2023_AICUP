{
 "cells": [
  {
   "cell_type": "code",
   "execution_count": 1,
   "id": "f08bdf1d-eb96-4e46-b0a5-351057a67526",
   "metadata": {
    "tags": []
   },
   "outputs": [],
   "source": [
    "import pandas as pd\n",
    "import joblib\n",
    "import numpy as np\n",
    "from sklearn.model_selection import train_test_split, GridSearchCV, StratifiedKFold, KFold\n",
    "from catboost import CatBoostClassifier, Pool, sum_models\n",
    "import sys\n",
    "sys.path.append('..')\n",
    "import utils\n",
    "from sklearn.metrics import f1_score"
   ]
  },
  {
   "cell_type": "code",
   "execution_count": 2,
   "id": "453614ea-1698-4d91-a403-d90a1e2363f3",
   "metadata": {
    "tags": []
   },
   "outputs": [
    {
     "data": {
      "text/plain": [
       "<catboost.core.CatBoostClassifier at 0x7fcc7a0fadd0>"
      ]
     },
     "execution_count": 2,
     "metadata": {},
     "output_type": "execute_result"
    }
   ],
   "source": [
    "model_FU = model = CatBoostClassifier()\n",
    "model_FU.load_model('./pretrain_models/FirstUse/db-v4-FirstUse-1_2_0.75_31_0.8_7(allin).cbm', format='cbm')\n",
    "\n",
    "model_AF = model = CatBoostClassifier()\n",
    "model_AF.load_model('./pretrain_models/AfterFraud/db-v4-AfterFraud-1_3_0.8_31_0.8_8(allin).cbm', format='cbm')\n",
    "\n",
    "model_UBF = model = CatBoostClassifier()\n",
    "model_UBF.load_model('./pretrain_models/UsedBeforeFraud/db-v4-UsedBeforeFraud-1_3.5_0.66_31_0.8_8(allin).cbm', format='cbm')"
   ]
  },
  {
   "cell_type": "code",
   "execution_count": 8,
   "id": "d7d7186f-357f-4086-8953-7cdd24a60ab4",
   "metadata": {
    "tags": []
   },
   "outputs": [],
   "source": [
    "D_AF = joblib.load('./dataset_3rd/db-v5-AfterFraud.joblib')\n",
    "utils.catboost_fillna(D_AF['train'], D_AF['pred'])\n",
    "\n",
    "D_AF['train'][\"label\"] = D_AF['train'][\"label\"].astype(np.uint8)\n",
    "D_AF['pred'][\"label\"] = D_AF['pred'][\"label\"].astype(np.uint8)\n",
    "\n",
    "train_X_AF = D_AF['train'].drop([\"label\"], axis=1)\n",
    "train_Y_AF = D_AF['train'][\"label\"].values\n",
    "\n",
    "val_X_AF = D_AF['pred'].drop([\"label\"], axis=1)\n",
    "val_Y_AF = D_AF['pred'][\"label\"]"
   ]
  },
  {
   "cell_type": "code",
   "execution_count": 9,
   "id": "da227028-b091-4a82-9053-f1225112c417",
   "metadata": {
    "tags": []
   },
   "outputs": [],
   "source": [
    "cat_features_list = np.nonzero((train_X_AF.dtypes==bool).to_numpy() | (train_X_AF.dtypes=='category').to_numpy())[0]\n",
    "\n",
    "train_data_AF = Pool(train_X_AF,\n",
    "                  train_Y_AF,\n",
    "                  cat_features = list(train_X_AF.columns[cat_features_list]))\n",
    "\n",
    "val_data_AF = Pool(val_X_AF,\n",
    "                  val_Y_AF,\n",
    "                  cat_features = list(val_X_AF.columns[cat_features_list]))"
   ]
  },
  {
   "cell_type": "code",
   "execution_count": 13,
   "id": "ea4e824c-22f5-4ff4-900a-4a58b945f47d",
   "metadata": {
    "tags": []
   },
   "outputs": [],
   "source": [
    "params_AF =  {\n",
    " 'eval_metric': 'F1', #\n",
    " 'iterations': 1000, #\n",
    " 'boosting_type': 'Ordered', # Plain* or Ordered(better but slow)\n",
    " 'one_hot_max_size': 10, # 2*\n",
    " 'l2_leaf_reg': 25, # 2*\n",
    " 'random_strength': 10, #\n",
    " 'od_type': 'Iter',\n",
    " # 'rsm': 0.5, # 1*, 0~1   # CPU only\n",
    " 'max_ctr_complexity': 4, # 允許的特徵交叉的最大特徵數量\n",
    " 'use_best_model': True,\n",
    " 'od_wait': 999,\n",
    " 'random_seed': 8,\n",
    " 'depth': 2,\n",
    " 'loss_function': 'Logloss',\n",
    " 'learning_rate': 0.8,\n",
    " 'task_type': 'CPU',\n",
    " 'max_leaves': 4, # Can be used only with the Lossguide growing policy. should < 64\n",
    " 'verbose': 50,\n",
    "    \n",
    " 'thread_count': 16}"
   ]
  },
  {
   "cell_type": "code",
   "execution_count": 12,
   "id": "c0887792-72fc-4760-b2e6-ae7a6b58e2a1",
   "metadata": {
    "tags": []
   },
   "outputs": [
    {
     "data": {
      "text/plain": [
       "0.9473684210526316"
      ]
     },
     "execution_count": 12,
     "metadata": {},
     "output_type": "execute_result"
    }
   ],
   "source": [
    "f1_score(val_Y_AF, model_AF.predict(val_X_AF))"
   ]
  },
  {
   "cell_type": "code",
   "execution_count": 14,
   "id": "5147d145-c354-4353-b0d0-404c1a007ead",
   "metadata": {
    "tags": []
   },
   "outputs": [
    {
     "name": "stdout",
     "output_type": "stream",
     "text": [
      "0:\tlearn: 0.9047533\ttest: 0.8831563\tbest: 0.8831563 (0)\ttotal: 63.6ms\tremaining: 1m 3s\n",
      "50:\tlearn: 0.9831949\ttest: 0.9418521\tbest: 0.9439655 (31)\ttotal: 2.96s\tremaining: 55.1s\n",
      "100:\tlearn: 0.9860449\ttest: 0.9427754\tbest: 0.9439655 (31)\ttotal: 5.73s\tremaining: 51s\n",
      "150:\tlearn: 0.9872441\ttest: 0.9297994\tbest: 0.9444845 (107)\ttotal: 8.45s\tremaining: 47.5s\n",
      "200:\tlearn: 0.9877665\ttest: 0.9310345\tbest: 0.9444845 (107)\ttotal: 11s\tremaining: 43.6s\n",
      "250:\tlearn: 0.9877162\ttest: 0.9317038\tbest: 0.9444845 (107)\ttotal: 13.3s\tremaining: 39.8s\n",
      "300:\tlearn: 0.9889031\ttest: 0.9436117\tbest: 0.9444845 (107)\ttotal: 15.8s\tremaining: 36.6s\n",
      "350:\tlearn: 0.9887365\ttest: 0.9437722\tbest: 0.9444845 (107)\ttotal: 18.3s\tremaining: 33.9s\n",
      "400:\tlearn: 0.9895946\ttest: 0.9459459\tbest: 0.9459459 (395)\ttotal: 21s\tremaining: 31.4s\n",
      "450:\tlearn: 0.9899134\ttest: 0.9452736\tbest: 0.9459459 (395)\ttotal: 23.7s\tremaining: 28.8s\n",
      "500:\tlearn: 0.9898668\ttest: 0.9354376\tbest: 0.9466951 (456)\ttotal: 26.1s\tremaining: 26s\n",
      "550:\tlearn: 0.9901384\ttest: 0.9355301\tbest: 0.9466951 (456)\ttotal: 28.8s\tremaining: 23.5s\n",
      "600:\tlearn: 0.9901874\ttest: 0.9347670\tbest: 0.9466951 (456)\ttotal: 31.5s\tremaining: 20.9s\n",
      "650:\tlearn: 0.9901869\ttest: 0.9347670\tbest: 0.9466951 (456)\ttotal: 33.9s\tremaining: 18.2s\n",
      "700:\tlearn: 0.9901869\ttest: 0.9347670\tbest: 0.9466951 (456)\ttotal: 36.3s\tremaining: 15.5s\n",
      "750:\tlearn: 0.9901869\ttest: 0.9347670\tbest: 0.9466951 (456)\ttotal: 38.6s\tremaining: 12.8s\n",
      "800:\tlearn: 0.9905070\ttest: 0.9332376\tbest: 0.9466951 (456)\ttotal: 41.1s\tremaining: 10.2s\n",
      "850:\tlearn: 0.9906327\ttest: 0.9339080\tbest: 0.9466951 (456)\ttotal: 43.6s\tremaining: 7.63s\n",
      "900:\tlearn: 0.9908765\ttest: 0.9352518\tbest: 0.9466951 (456)\ttotal: 46.1s\tremaining: 5.07s\n",
      "950:\tlearn: 0.9909994\ttest: 0.9345794\tbest: 0.9466951 (456)\ttotal: 48.7s\tremaining: 2.51s\n",
      "999:\tlearn: 0.9911934\ttest: 0.9331416\tbest: 0.9466951 (456)\ttotal: 51.3s\tremaining: 0us\n",
      "\n",
      "bestTest = 0.9466950959\n",
      "bestIteration = 456\n",
      "\n",
      "Shrink model to first 457 iterations.\n"
     ]
    },
    {
     "data": {
      "text/plain": [
       "<catboost.core.CatBoostClassifier at 0x7fcb9b747e80>"
      ]
     },
     "execution_count": 14,
     "metadata": {},
     "output_type": "execute_result"
    }
   ],
   "source": [
    "model_AF_final=CatBoostClassifier(**params_AF)\n",
    "model_AF_final.fit(train_data_AF, eval_set=val_data_AF)"
   ]
  },
  {
   "cell_type": "code",
   "execution_count": null,
   "id": "a3dc0da8-d920-43d0-936a-e32f47d54210",
   "metadata": {},
   "outputs": [],
   "source": [
    "model_AF_final_2.save_model('AF_model_final', format='cbm')"
   ]
  },
  {
   "cell_type": "code",
   "execution_count": null,
   "id": "2c55d4f9-59b2-49a2-bb58-a0406cacb702",
   "metadata": {},
   "outputs": [],
   "source": []
  },
  {
   "cell_type": "code",
   "execution_count": null,
   "id": "4943a7fd-594b-4c25-a00a-cceabf5b10fb",
   "metadata": {},
   "outputs": [],
   "source": []
  }
 ],
 "metadata": {
  "kernelspec": {
   "display_name": "Python 3",
   "language": "python",
   "name": "python3"
  },
  "language_info": {
   "codemirror_mode": {
    "name": "ipython",
    "version": 3
   },
   "file_extension": ".py",
   "mimetype": "text/x-python",
   "name": "python",
   "nbconvert_exporter": "python",
   "pygments_lexer": "ipython3",
   "version": "3.10.13"
  }
 },
 "nbformat": 4,
 "nbformat_minor": 5
}
